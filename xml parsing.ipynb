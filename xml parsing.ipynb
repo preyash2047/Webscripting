{
 "cells": [
  {
   "cell_type": "code",
   "execution_count": 269,
   "metadata": {},
   "outputs": [],
   "source": [
    "import csv \n",
    "import requests \n",
    "import xml.etree.ElementTree as ET \n",
    "  \n",
    "def loadRSS(): \n",
    "    url = 'https://rss.nytimes.com/services/xml/rss/nyt/Science.xml'\n",
    "  \n",
    "    # creating HTTP response object from given url \n",
    "    resp = requests.get(url) \n",
    "  \n",
    "    # saving the xml file \n",
    "    with open('topnewsfeed.xml', 'wb') as f: \n",
    "        f.write(resp.content) \n",
    "          \n",
    "loadRSS()"
   ]
  },
  {
   "cell_type": "code",
   "execution_count": 291,
   "metadata": {},
   "outputs": [
    {
     "data": {
      "text/plain": [
       "['Title: Watch the Moon Landing of China’s Chang’e-5 Spacecraft',\n",
       " 'Title: NASA Launched a Rocket 54 Years Ago. Has It Finally Come Home?',\n",
       " 'Title: He Was a Stick, She Was a Leaf; Together They Made History',\n",
       " 'Title: London A.I. Lab Claims Breakthrough That Could Accelerate Drug Discovery',\n",
       " 'Title: Effort to Rescue Endangered Turtles Becomes a Thanksgiving Odyssey',\n",
       " 'Title: Hawaii’s Fresh Water Leaks to the Ocean Through Underground Rivers',\n",
       " 'Title: The African Crested Rat Covers Itself With Poison That Can Take Out an Elephant',\n",
       " 'Title: 19th-Century Ship Is Revealed by Storm Erosion in Florida',\n",
       " 'Title: Meet GPT-3. It Has Learned to Code (and Blog and Argue).',\n",
       " 'Title: Moderna to Begin Testing Its Coronavirus Vaccine in Children',\n",
       " 'Title: CVS to Give Out Covid-19 Treatment in Nursing Homes',\n",
       " 'Title: Dr. Michael Davidson, Who Studied Infectious Disease, Dies at 77',\n",
       " 'Title: The UK Just Approved the Pfizer Covid Vaccine. What Happens Next?',\n",
       " 'Title: Singapore Approves a Lab-Grown Meat Product, a Global First',\n",
       " 'Title: U.K. Approves Pfizer Coronavirus Vaccine, a First in the West',\n",
       " 'Title: Virus May Have Arrived in U.S. in December, but Didn’t Spread Until Later',\n",
       " 'Title: Georgina Mace, Who Shaped List of Endangered Species, Dies at 67',\n",
       " 'Title: The Arecibo Observatory in Puerto Rico Collapses',\n",
       " 'Title: China Lands Chang’e-5 Spacecraft on Moon to Gather Lunar Rocks and Soil',\n",
       " 'Title: Berry-Flavored H.I.V. Medication Is Ready for Babies',\n",
       " 'Title: Prisons Are Covid-19 Hotbeds. When Should Inmates Get the Vaccine?',\n",
       " 'Title: Moderna Is Applying for Emergency F.D.A. Approval for Its Coronavirus Vaccine',\n",
       " 'Title: New Zealand Announces Charges in Deadly White Island Volcano Eruption',\n",
       " 'Title: Watch a Lunar Eclipse, or at Least Try To',\n",
       " 'Title: Make a Poem From Newspaper',\n",
       " 'Title: Making Bar Trivia Virtual',\n",
       " 'Title: Ways to Get Your Kids Moving',\n",
       " 'Title: Listen to Indigenous Podcasts',\n",
       " 'Title: Things To Do At Home',\n",
       " 'Title: A.A. to Zoom, Substance Abuse Treatment Goes Online',\n",
       " 'Title: McKinsey Proposed Paying Pharmacy Companies Rebates for OxyContin Overdoses',\n",
       " 'Title: E.P.A.’s Final Deregulatory Rush Runs Into Open Staff Resistance',\n",
       " 'Title: How US Hospitals Are Stretched Way Too Thin Due to Covid-19',\n",
       " 'Title: Why Hong Kong, South Korea and Japan Have to Keep Beating Back Coronavirus',\n",
       " \"Title: The Coronavirus Won't Stop Evolving When the Vaccine Arrives\",\n",
       " 'Title: Dr. Mary Fowkes, 66, Dies; Helped Science Understand the Pandemic',\n",
       " 'Title: Could Covid-19 Cause Your Teeth to Fall Out?',\n",
       " 'Title: Sewage may offer early signs of coronavirus outbreaks.']"
      ]
     },
     "execution_count": 291,
     "metadata": {},
     "output_type": "execute_result"
    }
   ],
   "source": [
    "def parseXML(xmlfile): \n",
    "  \n",
    "    # create element tree object \n",
    "    tree = ET.parse(xmlfile) \n",
    "  \n",
    "    # get root element \n",
    "    root = tree.getroot() \n",
    "  \n",
    "    # create empty list for news items \n",
    "    newsitems = [] \n",
    "  \n",
    "    # iterate news items \n",
    "    for item in root.findall('./channel/item'): \n",
    "  \n",
    "        # iterate child elements of item \n",
    "        for child in item: \n",
    "  \n",
    "            # special checking for namespace object content:media \n",
    "            if child.tag == \"title\": \n",
    "                # append news dictionary to news items list \n",
    "                newsitems.append(child.text) \n",
    "      \n",
    "    newsitems = [\"Title: \"+i for i in newsitems]\n",
    "    # return news items list \n",
    "    return newsitems \n",
    "newsitems = parseXML('topnewsfeed.xml')\n",
    "newsitems"
   ]
  },
  {
   "cell_type": "code",
   "execution_count": null,
   "metadata": {},
   "outputs": [],
   "source": [
    "def savetoCSV(newsitems, filename): \n",
    "  \n",
    "    # specifying the fields for csv file \n",
    "    fields = ['guid', 'title', 'pubDate', 'description', 'link', 'media'] \n",
    "  \n",
    "    # writing to csv file \n",
    "    with open(filename, 'w') as csvfile: \n",
    "  \n",
    "        # creating a csv dict writer object \n",
    "        writer = csv.DictWriter(csvfile, fieldnames = fields) \n",
    "  \n",
    "        # writing headers (field names) \n",
    "        writer.writeheader() \n",
    "  \n",
    "        # writing data rows \n",
    "        writer.writerows(newsitems) \n",
    "  \n",
    "\n",
    "savetoCSV(newsitems, 'topnews.csv') "
   ]
  }
 ],
 "metadata": {
  "kernelspec": {
   "display_name": "Python 3",
   "language": "python",
   "name": "python3"
  },
  "language_info": {
   "codemirror_mode": {
    "name": "ipython",
    "version": 3
   },
   "file_extension": ".py",
   "mimetype": "text/x-python",
   "name": "python",
   "nbconvert_exporter": "python",
   "pygments_lexer": "ipython3",
   "version": "3.8.5"
  }
 },
 "nbformat": 4,
 "nbformat_minor": 4
}
