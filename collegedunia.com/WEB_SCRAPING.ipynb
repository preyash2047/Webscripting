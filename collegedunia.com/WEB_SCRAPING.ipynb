{
  "nbformat": 4,
  "nbformat_minor": 0,
  "metadata": {
    "colab": {
      "name": "PART 2: WEB SCRAPING",
      "provenance": [],
      "collapsed_sections": []
    },
    "kernelspec": {
      "name": "python3",
      "display_name": "Python 3"
    }
  },
  "cells": [
    {
      "cell_type": "markdown",
      "metadata": {
        "id": "MTRyasZM8yPN"
      },
      "source": [
        "# Reason to Select Google Colab for web scraping\n",
        "* It uses the resource of google\n",
        "* Our Internet Data can be saved\n",
        "* Our memory is free for other task\n",
        "* There is noting to worry about privecy as we are using public webste to grab data\n",
        "<br>\n",
        "That's it "
      ]
    },
    {
      "cell_type": "markdown",
      "metadata": {
        "id": "P4iVmIyy92is"
      },
      "source": [
        "# Web SCraping the [collegedunia.com](https://collegedunia.com/btech-colleges)\n"
      ]
    },
    {
      "cell_type": "markdown",
      "metadata": {
        "id": "F4SdWjmE7M63"
      },
      "source": [
        "### Importing Required Library"
      ]
    },
    {
      "cell_type": "code",
      "metadata": {
        "id": "GulQiooX0TkD"
      },
      "source": [
        "from bs4 import BeautifulSoup as soup\n",
        "from urllib.request import urlopen, Request\n",
        "import re\n",
        "import pandas as pd\n",
        "import time"
      ],
      "execution_count": 1,
      "outputs": []
    },
    {
      "cell_type": "markdown",
      "metadata": {
        "id": "2eNR2mk37hPP"
      },
      "source": [
        "### Data Fream for end output "
      ]
    },
    {
      "cell_type": "code",
      "metadata": {
        "id": "I1rLnBZv3Whc"
      },
      "source": [
        "data = pd.DataFrame(columns=[\"info\",\"course & fees\", \"admission2020\", \"reviews\", \"department\", \"cutoff\"])"
      ],
      "execution_count": 2,
      "outputs": []
    },
    {
      "cell_type": "markdown",
      "metadata": {
        "id": "wkGIv7UP7scs"
      },
      "source": [
        "### Getting College Website Links"
      ]
    },
    {
      "cell_type": "code",
      "metadata": {
        "id": "943QRdKkwGrl",
        "outputId": "e19f742e-6d0a-404c-abcf-e89c9e9ddd02",
        "colab": {
          "base_uri": "https://localhost:8080/",
          "height": 53
        }
      },
      "source": [
        "my_url = Request('https://collegedunia.com/btech-colleges', headers={'User-Agent': 'Mozilla/5.0'})\n",
        "webpage = urlopen(my_url).read()\n",
        "uClient = urlopen(my_url)\n",
        "page_html = uClient.read()\n",
        "uClient.close()\n",
        "page_soup = soup(page_html, \"html.parser\")\n",
        "\n",
        "containers = page_soup.findAll('a', {'class':'college_name'})\n",
        "print(len(containers))\n",
        "list_url = [x['href'] for x in containers]\n",
        "list_url[0]"
      ],
      "execution_count": 3,
      "outputs": [
        {
          "output_type": "stream",
          "text": [
            "34\n"
          ],
          "name": "stdout"
        },
        {
          "output_type": "execute_result",
          "data": {
            "application/vnd.google.colaboratory.intrinsic+json": {
              "type": "string"
            },
            "text/plain": [
              "'https://collegedunia.com/university/25881-indian-institute-of-technology-madras-iitm-chennai'"
            ]
          },
          "metadata": {
            "tags": []
          },
          "execution_count": 3
        }
      ]
    },
    {
      "cell_type": "markdown",
      "metadata": {
        "id": "qjZtntH-7z_c"
      },
      "source": [
        "### Function to process Pandas html table"
      ]
    },
    {
      "cell_type": "code",
      "metadata": {
        "id": "l4GclNv25Gaj"
      },
      "source": [
        "def clean_panda(data):\n",
        "  temp_list = []\n",
        "  isfirst = True\n",
        "  for i in data:\n",
        "    if isfirst:\n",
        "      for j in data[i]:\n",
        "        temp_list.append(j)\n",
        "      isfirst = False\n",
        "    else:\n",
        "      for j in range(len(temp_list)):\n",
        "        temp_list[j] += \", \" + data[i][j]\n",
        "\n",
        "  output = \"\"\n",
        "  for i in range(len(temp_list)):\n",
        "    output += temp_list[i] + \"\\n\"\n",
        "  return output"
      ],
      "execution_count": 4,
      "outputs": []
    },
    {
      "cell_type": "markdown",
      "metadata": {
        "id": "KrM0Hjbj8Yss"
      },
      "source": [
        "### Main Logic to get the data"
      ]
    },
    {
      "cell_type": "code",
      "metadata": {
        "id": "gVrbe4VjzY50",
        "outputId": "1bceb4eb-1eb1-4bb9-c40f-bdc81e6ebd96",
        "colab": {
          "base_uri": "https://localhost:8080/",
          "height": 228
        }
      },
      "source": [
        "for url in list_url[:10]:\n",
        "  try:\n",
        "    try: \n",
        "      college_data = []\n",
        "      my_url = Request(url, headers={'User-Agent': 'Mozilla/5.0'})\n",
        "      time.sleep(1)\n",
        "      uClient = urlopen(my_url)\n",
        "      page_html = uClient.read()\n",
        "      uClient.close()\n",
        "      page_soup = soup(page_html, \"html.parser\")\n",
        "\n",
        "      #college info \n",
        "      containers = page_soup.findAll('h1', {'class':'college_name'})\n",
        "      college_data.append(containers[0].text)\n",
        "    except: \n",
        "      print(\"College : \" + url)\n",
        "      \n",
        "    try:\n",
        "      #Course and Fees\n",
        "      college_data.append(clean_panda(pd.read_html(url+\"/courses-fees\")[0].iloc[:,:2]))  \n",
        "    except: \n",
        "      print(\"Cource and fee : \" + url)\n",
        "      \n",
        "    try:\n",
        "      #Admission 2020\n",
        "      my_url = Request(url+\"/admission\", headers={'User-Agent': 'Mozilla/5.0'})\n",
        "      time.sleep(1)\n",
        "      uClient = urlopen(my_url)\n",
        "      page_html = uClient.read()\n",
        "      uClient.close()\n",
        "      page_soup = soup(page_html, \"html.parser\")\n",
        "      containers = page_soup.find('div', {'class':'admission_content_wrapper automate_client_img_article'})\n",
        "      ##getting the required portion\n",
        "      contant = []\n",
        "      for i in containers:\n",
        "        contant.append(i.text)\n",
        "      college_data.append(contant[1])\n",
        "    except: \n",
        "      print(\"Admission : \" + url)\n",
        "      \n",
        "    try:\n",
        "      #Reviews\n",
        "      containers = page_soup.find('span', {'class':'rating_val'})\n",
        "      college_data.append(containers.text)\n",
        "    except: \n",
        "      print(\"Review : \" + url)\n",
        "      \n",
        "    try:\n",
        "      #Department\n",
        "      my_url = Request(url+\"/department\", headers={'User-Agent': 'Mozilla/5.0'})\n",
        "      time.sleep(1)\n",
        "      uClient = urlopen(my_url)\n",
        "      page_html = uClient.read()\n",
        "      uClient.close()\n",
        "      page_soup = soup(page_html, \"html.parser\")\n",
        "      ##getting the required portion\n",
        "      containers = page_soup.findAll('a', {'class':'ga_college_v2 college_name'})\n",
        "      dep_list_str = \"\"\n",
        "      for i in containers:\n",
        "        dep_list_str += i.text + \", \"\n",
        "      college_data.append(dep_list_str)\n",
        "    except: \n",
        "      college_data.append(\"information not available\")\n",
        "      print(\"Department : \" + url)\n",
        "      \n",
        "    try:\n",
        "      #Cut off\n",
        "      college_data.append(clean_panda(pd.read_html(url+\"/cutoff\")[0]))  \n",
        "    except: \n",
        "      college_data.append(\"information not available\")\n",
        "      print(\"cut off : \" + url)\n",
        "      \n",
        "    #append to datafreaf\n",
        "    data = data.append({\n",
        "      \"info\": college_data[0],\n",
        "      \"course & fees\": college_data[1],\n",
        "      \"admission2020\": college_data[2],\n",
        "      \"reviews\":college_data[3],\n",
        "      \"department\": college_data[4],\n",
        "      \"cutoff\": college_data[5]\n",
        "      }, ignore_index=True)\n",
        "\n",
        "  except:\n",
        "    print(\"Error: \" + url)"
      ],
      "execution_count": 5,
      "outputs": [
        {
          "output_type": "stream",
          "text": [
            "cut off : https://collegedunia.com/university/25881-indian-institute-of-technology-madras-iitm-chennai\n",
            "cut off : https://collegedunia.com/university/25777-chandigarh-university-cu-chandigarh\n",
            "Department : https://collegedunia.com/university/25703-iit-bombay-indian-institute-of-technology-mumbai\n",
            "cut off : https://collegedunia.com/university/25703-iit-bombay-indian-institute-of-technology-mumbai\n",
            "Department : https://collegedunia.com/university/26007-indian-institute-of-technology-iit-kharagpur\n",
            "cut off : https://collegedunia.com/university/26007-indian-institute-of-technology-iit-kharagpur\n",
            "cut off : https://collegedunia.com/university/25948-indian-institute-of-technology-iit-kanpur\n",
            "cut off : https://collegedunia.com/university/25992-indian-institute-of-technology-iit-roorkee\n",
            "cut off : https://collegedunia.com/university/25800-birla-institute-of-technology-and-science-bits-pilani\n",
            "cut off : https://collegedunia.com/university/25833-nims-university-jaipur\n",
            "Department : https://collegedunia.com/university/25396-indian-institute-of-technology-iit-guwahati\n",
            "cut off : https://collegedunia.com/university/25396-indian-institute-of-technology-iit-guwahati\n"
          ],
          "name": "stdout"
        }
      ]
    },
    {
      "cell_type": "code",
      "metadata": {
        "id": "bIQA43tD1Gl5",
        "outputId": "1a1bfb71-8582-43f8-fbb8-07688dac9fa4",
        "colab": {
          "base_uri": "https://localhost:8080/",
          "height": 34
        }
      },
      "source": [
        "len(data)"
      ],
      "execution_count": 6,
      "outputs": [
        {
          "output_type": "execute_result",
          "data": {
            "text/plain": [
              "10"
            ]
          },
          "metadata": {
            "tags": []
          },
          "execution_count": 6
        }
      ]
    },
    {
      "cell_type": "markdown",
      "metadata": {
        "id": "ZNL3aV678mZg"
      },
      "source": [
        "### Data Preview"
      ]
    },
    {
      "cell_type": "code",
      "metadata": {
        "id": "qGCEa2ck9zb-",
        "outputId": "b0131c5f-3b90-4d01-e497-142c05fe3659",
        "colab": {
          "base_uri": "https://localhost:8080/",
          "height": 511
        }
      },
      "source": [
        "data"
      ],
      "execution_count": 7,
      "outputs": [
        {
          "output_type": "execute_result",
          "data": {
            "text/html": [
              "<div>\n",
              "<style scoped>\n",
              "    .dataframe tbody tr th:only-of-type {\n",
              "        vertical-align: middle;\n",
              "    }\n",
              "\n",
              "    .dataframe tbody tr th {\n",
              "        vertical-align: top;\n",
              "    }\n",
              "\n",
              "    .dataframe thead th {\n",
              "        text-align: right;\n",
              "    }\n",
              "</style>\n",
              "<table border=\"1\" class=\"dataframe\">\n",
              "  <thead>\n",
              "    <tr style=\"text-align: right;\">\n",
              "      <th></th>\n",
              "      <th>info</th>\n",
              "      <th>course &amp; fees</th>\n",
              "      <th>admission2020</th>\n",
              "      <th>reviews</th>\n",
              "      <th>department</th>\n",
              "      <th>cutoff</th>\n",
              "    </tr>\n",
              "  </thead>\n",
              "  <tbody>\n",
              "    <tr>\n",
              "      <th>0</th>\n",
              "      <td>Indian Institute of Technology Madras - [IITM]...</td>\n",
              "      <td>B.Tech, ₹75,116 (1st Year Fees)\\nB.A + M.A, ₹3...</td>\n",
              "      <td>The last date to apply for IIT JAM 2021 is 15 ...</td>\n",
              "      <td>8.7</td>\n",
              "      <td>Department of Management Studies, IIT Madras ...</td>\n",
              "      <td>information not available</td>\n",
              "    </tr>\n",
              "    <tr>\n",
              "      <th>1</th>\n",
              "      <td>Indian Institute of Technology - [IIT], New Delhi</td>\n",
              "      <td>B.Tech, ₹2.25 Lakhs (1st Year Fees)\\nM.Tech, ₹...</td>\n",
              "      <td>Registrations for GATE 2021 will close on 7 Oc...</td>\n",
              "      <td>8.7</td>\n",
              "      <td>Department of Management Studies IIT Delhi - ...</td>\n",
              "      <td>Courses, Closing Rank 2019(Round 7), Closing R...</td>\n",
              "    </tr>\n",
              "    <tr>\n",
              "      <th>2</th>\n",
              "      <td>Chandigarh University - [CU], Chandigarh</td>\n",
              "      <td>MBA, ₹1.8 Lakhs (1st Year Fees)\\nBBA, ₹96,000 ...</td>\n",
              "      <td>Latest Updates: Chandigarh University has exte...</td>\n",
              "      <td>8.6</td>\n",
              "      <td>University School of Business, Chandigarh Uni...</td>\n",
              "      <td>information not available</td>\n",
              "    </tr>\n",
              "    <tr>\n",
              "      <th>3</th>\n",
              "      <td>IIT Bombay - Indian Institute of Technology, M...</td>\n",
              "      <td>B.Tech, ₹2.11 Lakhs (1st Year Fees)\\nM.Tech, ₹...</td>\n",
              "      <td>Latest Update: IIT Bombay is currently invitin...</td>\n",
              "      <td>8.9</td>\n",
              "      <td>information not available</td>\n",
              "      <td>information not available</td>\n",
              "    </tr>\n",
              "    <tr>\n",
              "      <th>4</th>\n",
              "      <td>Indian Institute of Technology - [IIT], Kharagpur</td>\n",
              "      <td>B.Tech, ₹82,070 (1st Year Fees)\\nM.Tech, ₹2.32...</td>\n",
              "      <td>IIT Kharagpur has 19 Academic departments, 8 m...</td>\n",
              "      <td>8.5</td>\n",
              "      <td>information not available</td>\n",
              "      <td>information not available</td>\n",
              "    </tr>\n",
              "    <tr>\n",
              "      <th>5</th>\n",
              "      <td>Indian Institute of Technology - [IIT], Kanpur</td>\n",
              "      <td>B.Tech, ₹2.16 Lakhs (1st Year Fees)\\nM.Tech, ₹...</td>\n",
              "      <td>The last date to apply for IIT JAM 2021 is 15 ...</td>\n",
              "      <td>8.9</td>\n",
              "      <td>Industrial and Management Engineering, IIT Ka...</td>\n",
              "      <td>information not available</td>\n",
              "    </tr>\n",
              "    <tr>\n",
              "      <th>6</th>\n",
              "      <td>Indian Institute of Technology - [IIT], Roorkee</td>\n",
              "      <td>B.Tech, ₹2.22 Lakhs (1st Year Fees)\\nM.Arch, ₹...</td>\n",
              "      <td>IIT Roorkee as it is commonly known at present...</td>\n",
              "      <td>8.4</td>\n",
              "      <td>Department of Management Studies, Indian Inst...</td>\n",
              "      <td>information not available</td>\n",
              "    </tr>\n",
              "    <tr>\n",
              "      <th>7</th>\n",
              "      <td>Birla Institute of Technology and Science - [B...</td>\n",
              "      <td>B.E {Hons.}, ₹4.23 Lakhs (1st Year Fees)\\nMBA,...</td>\n",
              "      <td>The Birla Institute of Technology and Science ...</td>\n",
              "      <td>8.7</td>\n",
              "      <td>Department of Management, BITS -[DOMBITS],</td>\n",
              "      <td>information not available</td>\n",
              "    </tr>\n",
              "    <tr>\n",
              "      <th>8</th>\n",
              "      <td>NIMS University, Jaipur</td>\n",
              "      <td>M.Sc, ₹50,000 (1st Year Fees)\\nB.Sc, ₹40,000 (...</td>\n",
              "      <td>NIMS University was established in the year 20...</td>\n",
              "      <td>7.8</td>\n",
              "      <td>Nims University, School of Law,</td>\n",
              "      <td>information not available</td>\n",
              "    </tr>\n",
              "    <tr>\n",
              "      <th>9</th>\n",
              "      <td>Indian Institute of Technology - [IIT], Guwahati</td>\n",
              "      <td>M.A, ₹30,350 (1st Year Fees)\\nB.Tech, ₹2.19 La...</td>\n",
              "      <td>IIT Guwahati was established in the year 1994 ...</td>\n",
              "      <td>8.5</td>\n",
              "      <td>information not available</td>\n",
              "      <td>information not available</td>\n",
              "    </tr>\n",
              "  </tbody>\n",
              "</table>\n",
              "</div>"
            ],
            "text/plain": [
              "                                                info  ...                                             cutoff\n",
              "0  Indian Institute of Technology Madras - [IITM]...  ...                          information not available\n",
              "1  Indian Institute of Technology - [IIT], New Delhi  ...  Courses, Closing Rank 2019(Round 7), Closing R...\n",
              "2           Chandigarh University - [CU], Chandigarh  ...                          information not available\n",
              "3  IIT Bombay - Indian Institute of Technology, M...  ...                          information not available\n",
              "4  Indian Institute of Technology - [IIT], Kharagpur  ...                          information not available\n",
              "5     Indian Institute of Technology - [IIT], Kanpur  ...                          information not available\n",
              "6    Indian Institute of Technology - [IIT], Roorkee  ...                          information not available\n",
              "7  Birla Institute of Technology and Science - [B...  ...                          information not available\n",
              "8                            NIMS University, Jaipur  ...                          information not available\n",
              "9   Indian Institute of Technology - [IIT], Guwahati  ...                          information not available\n",
              "\n",
              "[10 rows x 6 columns]"
            ]
          },
          "metadata": {
            "tags": []
          },
          "execution_count": 7
        }
      ]
    },
    {
      "cell_type": "markdown",
      "metadata": {
        "id": "PfWU3tjo8qIJ"
      },
      "source": [
        "### Data Fream to CSV"
      ]
    },
    {
      "cell_type": "code",
      "metadata": {
        "id": "PWKB_-q2rmmv"
      },
      "source": [
        "data.to_csv(\"data.csv\")"
      ],
      "execution_count": 8,
      "outputs": []
    }
  ]
}