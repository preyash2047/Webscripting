{
  "nbformat": 4,
  "nbformat_minor": 0,
  "metadata": {
    "colab": {
      "name": "Untitled0.ipynb",
      "provenance": [],
      "collapsed_sections": [],
      "toc_visible": true
    },
    "kernelspec": {
      "name": "python3",
      "display_name": "Python 3"
    }
  },
  "cells": [
    {
      "cell_type": "markdown",
      "metadata": {
        "id": "K0OLTLI507CU"
      },
      "source": [
        "# Import lab"
      ]
    },
    {
      "cell_type": "code",
      "metadata": {
        "id": "QWdthSIj09av"
      },
      "source": [
        "from bs4 import BeautifulSoup as soup\n",
        "from urllib.request import urlopen, Request\n",
        "import re\n",
        "import pandas as pd\n",
        "import numpy as np"
      ],
      "execution_count": null,
      "outputs": []
    },
    {
      "cell_type": "markdown",
      "metadata": {
        "id": "WF6Ri4oC0kbb"
      },
      "source": [
        "# List of URLs"
      ]
    },
    {
      "cell_type": "code",
      "metadata": {
        "id": "afSA7H-k0kDi"
      },
      "source": [
        "url_list = []\n",
        "final_data_csv = []"
      ],
      "execution_count": null,
      "outputs": []
    },
    {
      "cell_type": "markdown",
      "metadata": {
        "id": "BwuMPQQs0yxZ"
      },
      "source": [
        "# Getting whole page into mypage\n",
        "## For further processing"
      ]
    },
    {
      "cell_type": "code",
      "metadata": {
        "id": "nxxka8gcsERE"
      },
      "source": [
        "for i in url_list:\n",
        "  my_url = Request(i,headers={'User-Agent': 'Mozilla/5.0'})\n",
        "  webpage = urlopen(my_url).read()\n",
        "  uClient = urlopen(my_url)\n",
        "  page_html = uClient.read()\n",
        "  uClient.close()\n",
        "  page_soup = soup(page_html, \"html.parser\")\n",
        "  mypage = str(page_soup) \n",
        "\n",
        "  #getting email\n",
        "  temp_email_list = re.findall(r'[\\w\\.-]+@[\\w\\.-]+', mypage)\n",
        "\n",
        "  #prepering data for csv\n",
        "  data_dic = {\n",
        "    college:\"\"\n",
        "    url:i,\n",
        "    emails:temp_email_list\n",
        "  }\n",
        "  final_data_csv.append(data_dic)"
      ],
      "execution_count": null,
      "outputs": []
    },
    {
      "cell_type": "code",
      "metadata": {
        "id": "zE3u0p0Kw1Vs"
      },
      "source": [
        ""
      ],
      "execution_count": null,
      "outputs": []
    }
  ]
}